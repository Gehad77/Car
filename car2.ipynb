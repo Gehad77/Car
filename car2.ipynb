{
 "cells": [
  {
   "cell_type": "markdown",
   "metadata": {},
   "source": [
    "# Car"
   ]
  },
  {
   "cell_type": "code",
   "execution_count": 12,
   "metadata": {},
   "outputs": [],
   "source": [
    "import numpy as np\n",
    "import matplotlib.pyplot as plt\n",
    "import pandas as pd\n",
    "import seaborn as sns\n",
    "from sklearn.preprocessing import StandardScaler\n"
   ]
  },
  {
   "cell_type": "code",
   "execution_count": 13,
   "metadata": {},
   "outputs": [
    {
     "data": {
      "text/plain": [
       "(6019, 14)"
      ]
     },
     "execution_count": 13,
     "metadata": {},
     "output_type": "execute_result"
    }
   ],
   "source": [
    "df = pd.read_csv(\"used cars regression.csv\")\n",
    "df.shape"
   ]
  },
  {
   "cell_type": "code",
   "execution_count": 14,
   "metadata": {},
   "outputs": [],
   "source": [
    "df.drop('New_Price',axis=1,inplace=True)\n",
    "df.drop('Unnamed: 0',axis = 1,inplace = True)\n"
   ]
  },
  {
   "cell_type": "code",
   "execution_count": 15,
   "metadata": {},
   "outputs": [
    {
     "data": {
      "text/html": [
       "<div>\n",
       "<style scoped>\n",
       "    .dataframe tbody tr th:only-of-type {\n",
       "        vertical-align: middle;\n",
       "    }\n",
       "\n",
       "    .dataframe tbody tr th {\n",
       "        vertical-align: top;\n",
       "    }\n",
       "\n",
       "    .dataframe thead th {\n",
       "        text-align: right;\n",
       "    }\n",
       "</style>\n",
       "<table border=\"1\" class=\"dataframe\">\n",
       "  <thead>\n",
       "    <tr style=\"text-align: right;\">\n",
       "      <th></th>\n",
       "      <th>Name</th>\n",
       "      <th>Location</th>\n",
       "      <th>Year</th>\n",
       "      <th>Kilometers_Driven</th>\n",
       "      <th>Fuel_Type</th>\n",
       "      <th>Transmission</th>\n",
       "      <th>Owner_Type</th>\n",
       "      <th>Mileage</th>\n",
       "      <th>Engine</th>\n",
       "      <th>Power</th>\n",
       "      <th>Seats</th>\n",
       "      <th>Price</th>\n",
       "    </tr>\n",
       "  </thead>\n",
       "  <tbody>\n",
       "    <tr>\n",
       "      <th>0</th>\n",
       "      <td>Maruti Wagon R LXI CNG</td>\n",
       "      <td>Mumbai</td>\n",
       "      <td>2010</td>\n",
       "      <td>72000</td>\n",
       "      <td>CNG</td>\n",
       "      <td>Manual</td>\n",
       "      <td>First</td>\n",
       "      <td>26.6 km/kg</td>\n",
       "      <td>998 CC</td>\n",
       "      <td>58.16 bhp</td>\n",
       "      <td>5.0</td>\n",
       "      <td>1.75</td>\n",
       "    </tr>\n",
       "    <tr>\n",
       "      <th>1</th>\n",
       "      <td>Hyundai Creta 1.6 CRDi SX Option</td>\n",
       "      <td>Pune</td>\n",
       "      <td>2015</td>\n",
       "      <td>41000</td>\n",
       "      <td>Diesel</td>\n",
       "      <td>Manual</td>\n",
       "      <td>First</td>\n",
       "      <td>19.67 kmpl</td>\n",
       "      <td>1582 CC</td>\n",
       "      <td>126.2 bhp</td>\n",
       "      <td>5.0</td>\n",
       "      <td>12.50</td>\n",
       "    </tr>\n",
       "    <tr>\n",
       "      <th>2</th>\n",
       "      <td>Honda Jazz V</td>\n",
       "      <td>Chennai</td>\n",
       "      <td>2011</td>\n",
       "      <td>46000</td>\n",
       "      <td>Petrol</td>\n",
       "      <td>Manual</td>\n",
       "      <td>First</td>\n",
       "      <td>18.2 kmpl</td>\n",
       "      <td>1199 CC</td>\n",
       "      <td>88.7 bhp</td>\n",
       "      <td>5.0</td>\n",
       "      <td>4.50</td>\n",
       "    </tr>\n",
       "    <tr>\n",
       "      <th>3</th>\n",
       "      <td>Maruti Ertiga VDI</td>\n",
       "      <td>Chennai</td>\n",
       "      <td>2012</td>\n",
       "      <td>87000</td>\n",
       "      <td>Diesel</td>\n",
       "      <td>Manual</td>\n",
       "      <td>First</td>\n",
       "      <td>20.77 kmpl</td>\n",
       "      <td>1248 CC</td>\n",
       "      <td>88.76 bhp</td>\n",
       "      <td>7.0</td>\n",
       "      <td>6.00</td>\n",
       "    </tr>\n",
       "    <tr>\n",
       "      <th>4</th>\n",
       "      <td>Audi A4 New 2.0 TDI Multitronic</td>\n",
       "      <td>Coimbatore</td>\n",
       "      <td>2013</td>\n",
       "      <td>40670</td>\n",
       "      <td>Diesel</td>\n",
       "      <td>Automatic</td>\n",
       "      <td>Second</td>\n",
       "      <td>15.2 kmpl</td>\n",
       "      <td>1968 CC</td>\n",
       "      <td>140.8 bhp</td>\n",
       "      <td>5.0</td>\n",
       "      <td>17.74</td>\n",
       "    </tr>\n",
       "  </tbody>\n",
       "</table>\n",
       "</div>"
      ],
      "text/plain": [
       "                               Name    Location  Year  Kilometers_Driven  \\\n",
       "0            Maruti Wagon R LXI CNG      Mumbai  2010              72000   \n",
       "1  Hyundai Creta 1.6 CRDi SX Option        Pune  2015              41000   \n",
       "2                      Honda Jazz V     Chennai  2011              46000   \n",
       "3                 Maruti Ertiga VDI     Chennai  2012              87000   \n",
       "4   Audi A4 New 2.0 TDI Multitronic  Coimbatore  2013              40670   \n",
       "\n",
       "  Fuel_Type Transmission Owner_Type     Mileage   Engine      Power  Seats  \\\n",
       "0       CNG       Manual      First  26.6 km/kg   998 CC  58.16 bhp    5.0   \n",
       "1    Diesel       Manual      First  19.67 kmpl  1582 CC  126.2 bhp    5.0   \n",
       "2    Petrol       Manual      First   18.2 kmpl  1199 CC   88.7 bhp    5.0   \n",
       "3    Diesel       Manual      First  20.77 kmpl  1248 CC  88.76 bhp    7.0   \n",
       "4    Diesel    Automatic     Second   15.2 kmpl  1968 CC  140.8 bhp    5.0   \n",
       "\n",
       "   Price  \n",
       "0   1.75  \n",
       "1  12.50  \n",
       "2   4.50  \n",
       "3   6.00  \n",
       "4  17.74  "
      ]
     },
     "execution_count": 15,
     "metadata": {},
     "output_type": "execute_result"
    }
   ],
   "source": [
    "df.head()"
   ]
  },
  {
   "cell_type": "code",
   "execution_count": 16,
   "metadata": {},
   "outputs": [
    {
     "data": {
      "text/plain": [
       "Name                  0\n",
       "Location              0\n",
       "Year                  0\n",
       "Kilometers_Driven     0\n",
       "Fuel_Type             0\n",
       "Transmission          0\n",
       "Owner_Type            0\n",
       "Mileage               2\n",
       "Engine               36\n",
       "Power                36\n",
       "Seats                42\n",
       "Price                 0\n",
       "dtype: int64"
      ]
     },
     "execution_count": 16,
     "metadata": {},
     "output_type": "execute_result"
    }
   ],
   "source": [
    "nulls = df.isnull().sum() \n",
    "nulls"
   ]
  },
  {
   "cell_type": "code",
   "execution_count": 17,
   "metadata": {},
   "outputs": [
    {
     "name": "stdout",
     "output_type": "stream",
     "text": [
      "<class 'pandas.core.frame.DataFrame'>\n",
      "RangeIndex: 6019 entries, 0 to 6018\n",
      "Data columns (total 12 columns):\n",
      " #   Column             Non-Null Count  Dtype  \n",
      "---  ------             --------------  -----  \n",
      " 0   Name               6019 non-null   object \n",
      " 1   Location           6019 non-null   object \n",
      " 2   Year               6019 non-null   int64  \n",
      " 3   Kilometers_Driven  6019 non-null   int64  \n",
      " 4   Fuel_Type          6019 non-null   object \n",
      " 5   Transmission       6019 non-null   object \n",
      " 6   Owner_Type         6019 non-null   object \n",
      " 7   Mileage            6017 non-null   object \n",
      " 8   Engine             5983 non-null   object \n",
      " 9   Power              5983 non-null   object \n",
      " 10  Seats              5977 non-null   float64\n",
      " 11  Price              6019 non-null   float64\n",
      "dtypes: float64(2), int64(2), object(8)\n",
      "memory usage: 564.4+ KB\n"
     ]
    }
   ],
   "source": [
    "df.info()"
   ]
  },
  {
   "cell_type": "code",
   "execution_count": 18,
   "metadata": {},
   "outputs": [],
   "source": [
    "df['Transmission'] = df['Transmission'].map({'Manual':1, 'Automatic':0})\n",
    "df['Owner_Type'] = df['Owner_Type'].map({'First':1, 'Second':2,'Third':3, 'Fourth & Above':4})\n",
    "df['Fuel_Type'] = df['Fuel_Type'].map({'Diesel':1, 'Electric':2,'CNG':3, 'LPG':4,'Petrol':5})\n",
    "df['Location'] = df['Location'].map({'Mumbai':1, 'Pune':2,'Chennai':3, 'Coimbatore':4,'Hyderabad':5,\n",
    "                                   'Jaipur':6, 'Kochi':7,'Kolkata':8, 'Bangalore':9,'Ahmedabad':10,'Delhi':11 })"
   ]
  },
  {
   "cell_type": "code",
   "execution_count": 19,
   "metadata": {},
   "outputs": [],
   "source": [
    "def value_to_float(x):\n",
    "    if type(x) == float or type(x) == int:\n",
    "        return x\n",
    "    if 'km/kg' in x:\n",
    "        if len(x) > 1:\n",
    "            return float(x.replace('km/kg', '')) * 1.40\n",
    "        return 1.0\n",
    "    if 'kmpl' in x:\n",
    "        if len(x) > 1:\n",
    "            return float(x.replace('kmpl', '')) * 1\n",
    "        return 1.0\n",
    "\n",
    "\n",
    "df['Mileage'] = df['Mileage'].apply(value_to_float)"
   ]
  },
  {
   "cell_type": "code",
   "execution_count": 20,
   "metadata": {},
   "outputs": [],
   "source": [
    "df['Power']=df['Power'].str.replace('bhp','')\n"
   ]
  },
  {
   "cell_type": "code",
   "execution_count": 21,
   "metadata": {},
   "outputs": [],
   "source": [
    "df['Power']=df['Power'].str.replace('null','')\n"
   ]
  },
  {
   "cell_type": "code",
   "execution_count": 22,
   "metadata": {},
   "outputs": [],
   "source": [
    "df['Power'] = df['Power'].transform(lambda x: x.fillna(0))\n"
   ]
  },
  {
   "cell_type": "code",
   "execution_count": 23,
   "metadata": {},
   "outputs": [],
   "source": [
    "def value_to_float(x):\n",
    "    if type(x) == float or type(x) == int:\n",
    "        return x\n",
    "    if '' in x:\n",
    "        if len(x) > 1:\n",
    "            return float(x.replace('', '')) * 1.0\n",
    "        return 1.0\n",
    "\n",
    "\n",
    "\n",
    "df['Power'] = df['Power'].apply(value_to_float)"
   ]
  },
  {
   "cell_type": "code",
   "execution_count": 24,
   "metadata": {},
   "outputs": [],
   "source": [
    "def value_to_float(x):\n",
    "    if type(x) == float or type(x) == int:\n",
    "        return x\n",
    "    if 'CC' in x:\n",
    "        if len(x) > 1:\n",
    "            return float(x.replace('CC', '')) * 1.0\n",
    "        return 1.0\n",
    "\n",
    "\n",
    "df['Engine'] = df['Engine'].apply(value_to_float)"
   ]
  },
  {
   "cell_type": "code",
   "execution_count": 25,
   "metadata": {},
   "outputs": [],
   "source": [
    "df['Mileage'] = df['Mileage'].transform(lambda x: x.fillna(x.mean()))\n",
    "df['Engine'] = df['Engine'].transform(lambda x: x.fillna(x.mean()))\n",
    "df['Seats'] = df['Seats'].transform(lambda x: x.fillna(x.mean()))"
   ]
  },
  {
   "cell_type": "code",
   "execution_count": 26,
   "metadata": {},
   "outputs": [
    {
     "data": {
      "text/plain": [
       "array([ 1,  2,  3,  4,  5,  6,  7,  8, 11,  9, 10], dtype=int64)"
      ]
     },
     "execution_count": 26,
     "metadata": {},
     "output_type": "execute_result"
    }
   ],
   "source": [
    "df.Location.unique()"
   ]
  },
  {
   "cell_type": "code",
   "execution_count": 27,
   "metadata": {},
   "outputs": [
    {
     "data": {
      "image/png": "[encoded data removed]",
      "text/plain": [
       "<Figure size 1080x720 with 2 Axes>"
      ]
     },
     "metadata": {
      "needs_background": "light"
     },
     "output_type": "display_data"
    }
   ],
   "source": [
    "def heat_map_plot(df):\n",
    "    f, ax = plt.subplots(figsize=(15, 10))\n",
    "    corr = df.corr()\n",
    "    mp = sns.heatmap(corr, mask=np.zeros_like(corr, dtype=bool),\\\n",
    "                     cmap=sns.diverging_palette(220, 10, as_cmap=True),\n",
    "                     square=True, ax=ax, annot = True)\n",
    "    mp.set_title(label='Dataset Correlation', fontsize=10)\n",
    "\n",
    "heat_map_plot(df)\n"
   ]
  },
  {
   "cell_type": "code",
   "execution_count": 28,
   "metadata": {},
   "outputs": [
    {
     "data": {
      "text/html": [
       "<div>\n",
       "<style scoped>\n",
       "    .dataframe tbody tr th:only-of-type {\n",
       "        vertical-align: middle;\n",
       "    }\n",
       "\n",
       "    .dataframe tbody tr th {\n",
       "        vertical-align: top;\n",
       "    }\n",
       "\n",
       "    .dataframe thead th {\n",
       "        text-align: right;\n",
       "    }\n",
       "</style>\n",
       "<table border=\"1\" class=\"dataframe\">\n",
       "  <thead>\n",
       "    <tr style=\"text-align: right;\">\n",
       "      <th></th>\n",
       "      <th>Location</th>\n",
       "      <th>Year</th>\n",
       "      <th>Kilometers_Driven</th>\n",
       "      <th>Fuel_Type</th>\n",
       "      <th>Transmission</th>\n",
       "      <th>Owner_Type</th>\n",
       "      <th>Mileage</th>\n",
       "      <th>Engine</th>\n",
       "      <th>Power</th>\n",
       "      <th>Seats</th>\n",
       "      <th>Price</th>\n",
       "    </tr>\n",
       "  </thead>\n",
       "  <tbody>\n",
       "    <tr>\n",
       "      <th>Location</th>\n",
       "      <td>1.000000</td>\n",
       "      <td>0.053828</td>\n",
       "      <td>-0.028418</td>\n",
       "      <td>-0.061387</td>\n",
       "      <td>0.031106</td>\n",
       "      <td>-0.075025</td>\n",
       "      <td>0.035690</td>\n",
       "      <td>0.008570</td>\n",
       "      <td>0.016432</td>\n",
       "      <td>0.005209</td>\n",
       "      <td>0.014887</td>\n",
       "    </tr>\n",
       "    <tr>\n",
       "      <th>Year</th>\n",
       "      <td>0.053828</td>\n",
       "      <td>1.000000</td>\n",
       "      <td>-0.173048</td>\n",
       "      <td>-0.128179</td>\n",
       "      <td>-0.097059</td>\n",
       "      <td>-0.397152</td>\n",
       "      <td>0.303757</td>\n",
       "      <td>-0.051712</td>\n",
       "      <td>0.084284</td>\n",
       "      <td>0.012204</td>\n",
       "      <td>0.305327</td>\n",
       "    </tr>\n",
       "    <tr>\n",
       "      <th>Kilometers_Driven</th>\n",
       "      <td>-0.028418</td>\n",
       "      <td>-0.173048</td>\n",
       "      <td>1.000000</td>\n",
       "      <td>-0.104700</td>\n",
       "      <td>0.025663</td>\n",
       "      <td>0.085337</td>\n",
       "      <td>-0.061866</td>\n",
       "      <td>0.091029</td>\n",
       "      <td>0.022821</td>\n",
       "      <td>0.083072</td>\n",
       "      <td>-0.011493</td>\n",
       "    </tr>\n",
       "    <tr>\n",
       "      <th>Fuel_Type</th>\n",
       "      <td>-0.061387</td>\n",
       "      <td>-0.128179</td>\n",
       "      <td>-0.104700</td>\n",
       "      <td>1.000000</td>\n",
       "      <td>0.136826</td>\n",
       "      <td>0.045635</td>\n",
       "      <td>-0.118089</td>\n",
       "      <td>-0.419705</td>\n",
       "      <td>-0.283987</td>\n",
       "      <td>-0.306197</td>\n",
       "      <td>-0.317272</td>\n",
       "    </tr>\n",
       "    <tr>\n",
       "      <th>Transmission</th>\n",
       "      <td>0.031106</td>\n",
       "      <td>-0.097059</td>\n",
       "      <td>0.025663</td>\n",
       "      <td>0.136826</td>\n",
       "      <td>1.000000</td>\n",
       "      <td>0.008797</td>\n",
       "      <td>0.326723</td>\n",
       "      <td>-0.499082</td>\n",
       "      <td>-0.626476</td>\n",
       "      <td>0.075250</td>\n",
       "      <td>-0.586025</td>\n",
       "    </tr>\n",
       "    <tr>\n",
       "      <th>Owner_Type</th>\n",
       "      <td>-0.075025</td>\n",
       "      <td>-0.397152</td>\n",
       "      <td>0.085337</td>\n",
       "      <td>0.045635</td>\n",
       "      <td>0.008797</td>\n",
       "      <td>1.000000</td>\n",
       "      <td>-0.151957</td>\n",
       "      <td>0.050454</td>\n",
       "      <td>-0.007516</td>\n",
       "      <td>0.013912</td>\n",
       "      <td>-0.097557</td>\n",
       "    </tr>\n",
       "    <tr>\n",
       "      <th>Mileage</th>\n",
       "      <td>0.035690</td>\n",
       "      <td>0.303757</td>\n",
       "      <td>-0.061866</td>\n",
       "      <td>-0.118089</td>\n",
       "      <td>0.326723</td>\n",
       "      <td>-0.151957</td>\n",
       "      <td>1.000000</td>\n",
       "      <td>-0.573496</td>\n",
       "      <td>-0.416491</td>\n",
       "      <td>-0.293045</td>\n",
       "      <td>-0.300067</td>\n",
       "    </tr>\n",
       "    <tr>\n",
       "      <th>Engine</th>\n",
       "      <td>0.008570</td>\n",
       "      <td>-0.051712</td>\n",
       "      <td>0.091029</td>\n",
       "      <td>-0.419705</td>\n",
       "      <td>-0.499082</td>\n",
       "      <td>0.050454</td>\n",
       "      <td>-0.573496</td>\n",
       "      <td>1.000000</td>\n",
       "      <td>0.831394</td>\n",
       "      <td>0.393087</td>\n",
       "      <td>0.657118</td>\n",
       "    </tr>\n",
       "    <tr>\n",
       "      <th>Power</th>\n",
       "      <td>0.016432</td>\n",
       "      <td>0.084284</td>\n",
       "      <td>0.022821</td>\n",
       "      <td>-0.283987</td>\n",
       "      <td>-0.626476</td>\n",
       "      <td>-0.007516</td>\n",
       "      <td>-0.416491</td>\n",
       "      <td>0.831394</td>\n",
       "      <td>1.000000</td>\n",
       "      <td>0.107261</td>\n",
       "      <td>0.752028</td>\n",
       "    </tr>\n",
       "    <tr>\n",
       "      <th>Seats</th>\n",
       "      <td>0.005209</td>\n",
       "      <td>0.012204</td>\n",
       "      <td>0.083072</td>\n",
       "      <td>-0.306197</td>\n",
       "      <td>0.075250</td>\n",
       "      <td>0.013912</td>\n",
       "      <td>-0.293045</td>\n",
       "      <td>0.393087</td>\n",
       "      <td>0.107261</td>\n",
       "      <td>1.000000</td>\n",
       "      <td>0.052118</td>\n",
       "    </tr>\n",
       "    <tr>\n",
       "      <th>Price</th>\n",
       "      <td>0.014887</td>\n",
       "      <td>0.305327</td>\n",
       "      <td>-0.011493</td>\n",
       "      <td>-0.317272</td>\n",
       "      <td>-0.586025</td>\n",
       "      <td>-0.097557</td>\n",
       "      <td>-0.300067</td>\n",
       "      <td>0.657118</td>\n",
       "      <td>0.752028</td>\n",
       "      <td>0.052118</td>\n",
       "      <td>1.000000</td>\n",
       "    </tr>\n",
       "  </tbody>\n",
       "</table>\n",
       "</div>"
      ],
      "text/plain": [
       "                   Location      Year  Kilometers_Driven  Fuel_Type  \\\n",
       "Location           1.000000  0.053828          -0.028418  -0.061387   \n",
       "Year               0.053828  1.000000          -0.173048  -0.128179   \n",
       "Kilometers_Driven -0.028418 -0.173048           1.000000  -0.104700   \n",
       "Fuel_Type         -0.061387 -0.128179          -0.104700   1.000000   \n",
       "Transmission       0.031106 -0.097059           0.025663   0.136826   \n",
       "Owner_Type        -0.075025 -0.397152           0.085337   0.045635   \n",
       "Mileage            0.035690  0.303757          -0.061866  -0.118089   \n",
       "Engine             0.008570 -0.051712           0.091029  -0.419705   \n",
       "Power              0.016432  0.084284           0.022821  -0.283987   \n",
       "Seats              0.005209  0.012204           0.083072  -0.306197   \n",
       "Price              0.014887  0.305327          -0.011493  -0.317272   \n",
       "\n",
       "                   Transmission  Owner_Type   Mileage    Engine     Power  \\\n",
       "Location               0.031106   -0.075025  0.035690  0.008570  0.016432   \n",
       "Year                  -0.097059   -0.397152  0.303757 -0.051712  0.084284   \n",
       "Kilometers_Driven      0.025663    0.085337 -0.061866  0.091029  0.022821   \n",
       "Fuel_Type              0.136826    0.045635 -0.118089 -0.419705 -0.283987   \n",
       "Transmission           1.000000    0.008797  0.326723 -0.499082 -0.626476   \n",
       "Owner_Type             0.008797    1.000000 -0.151957  0.050454 -0.007516   \n",
       "Mileage                0.326723   -0.151957  1.000000 -0.573496 -0.416491   \n",
       "Engine                -0.499082    0.050454 -0.573496  1.000000  0.831394   \n",
       "Power                 -0.626476   -0.007516 -0.416491  0.831394  1.000000   \n",
       "Seats                  0.075250    0.013912 -0.293045  0.393087  0.107261   \n",
       "Price                 -0.586025   -0.097557 -0.300067  0.657118  0.752028   \n",
       "\n",
       "                      Seats     Price  \n",
       "Location           0.005209  0.014887  \n",
       "Year               0.012204  0.305327  \n",
       "Kilometers_Driven  0.083072 -0.011493  \n",
       "Fuel_Type         -0.306197 -0.317272  \n",
       "Transmission       0.075250 -0.586025  \n",
       "Owner_Type         0.013912 -0.097557  \n",
       "Mileage           -0.293045 -0.300067  \n",
       "Engine             0.393087  0.657118  \n",
       "Power              0.107261  0.752028  \n",
       "Seats              1.000000  0.052118  \n",
       "Price              0.052118  1.000000  "
      ]
     },
     "execution_count": 28,
     "metadata": {},
     "output_type": "execute_result"
    }
   ],
   "source": [
    "df.loc[:, df.dtypes != np.object].corr()"
   ]
  },
  {
   "cell_type": "code",
   "execution_count": 29,
   "metadata": {},
   "outputs": [],
   "source": [
    "df.drop(['Fuel_Type','Transmission','Kilometers_Driven','Owner_Type','Name'],axis=1,inplace=True)"
   ]
  },
  {
   "cell_type": "code",
   "execution_count": null,
   "metadata": {},
   "outputs": [],
   "source": []
  },
  {
   "cell_type": "markdown",
   "metadata": {},
   "source": [
    "# Model"
   ]
  },
  {
   "cell_type": "code",
   "execution_count": 30,
   "metadata": {},
   "outputs": [],
   "source": [
    "X=df.iloc[:,:-1].values\n",
    "y=df.iloc[:,-1].values\n"
   ]
  },
  {
   "cell_type": "code",
   "execution_count": 31,
   "metadata": {},
   "outputs": [],
   "source": [
    "from sklearn.model_selection import train_test_split\n",
    "X_train, X_test, y_train, y_test = train_test_split(X, y, test_size = 0.25, random_state = 42)"
   ]
  },
  {
   "cell_type": "code",
   "execution_count": 32,
   "metadata": {},
   "outputs": [],
   "source": [
    "X_train = df.drop(columns=['Price'])\n",
    "y_train = df['Price']\n",
    "\n",
    "X_val = df.drop(columns=['Price'])\n",
    "y_val = df['Price']"
   ]
  },
  {
   "cell_type": "code",
   "execution_count": 33,
   "metadata": {},
   "outputs": [
    {
     "data": {
      "text/plain": [
       "Pipeline(steps=[('scaler', StandardScaler()),\n",
       "                ('Regressor',\n",
       "                 DecisionTreeRegressor(max_depth=8, random_state=0))])"
      ]
     },
     "execution_count": 33,
     "metadata": {},
     "output_type": "execute_result"
    }
   ],
   "source": [
    "from sklearn.pipeline import Pipeline\n",
    "from sklearn.ensemble import RandomForestClassifier\n",
    "from sklearn.tree import DecisionTreeRegressor\n",
    "\n",
    "pipe = Pipeline([('scaler', StandardScaler()), \n",
    "                 (\"Regressor\",DecisionTreeRegressor(max_depth=8, random_state=0))])\n",
    "pipe.fit(X_train, y_train)"
   ]
  },
  {
   "cell_type": "code",
   "execution_count": 34,
   "metadata": {},
   "outputs": [
    {
     "data": {
      "text/plain": [
       "DecisionTreeRegressor(random_state=42)"
      ]
     },
     "execution_count": 34,
     "metadata": {},
     "output_type": "execute_result"
    }
   ],
   "source": [
    "# Fitting Decision Tree Regression to the dataset\n",
    "from sklearn.tree import DecisionTreeRegressor\n",
    "regressor = DecisionTreeRegressor(random_state = 42)\n",
    "regressor.fit(X_train, y_train)"
   ]
  },
  {
   "cell_type": "code",
   "execution_count": 35,
   "metadata": {},
   "outputs": [
    {
     "name": "stdout",
     "output_type": "stream",
     "text": [
      "The accuracy of the classifier on the dataset is  0.998300062299783\n"
     ]
    }
   ],
   "source": [
    "print(\"The accuracy of the classifier on the dataset is \", (regressor.score(X_val, y_val)))"
   ]
  },
  {
   "cell_type": "code",
   "execution_count": 36,
   "metadata": {},
   "outputs": [
    {
     "name": "stdout",
     "output_type": "stream",
     "text": [
      "The accuracy of the classifier on the dataset is  0.9404482854440678\n"
     ]
    }
   ],
   "source": [
    "print(\"The accuracy of the classifier on the dataset is \", (pipe.score(X_val, y_val)))"
   ]
  },
  {
   "cell_type": "code",
   "execution_count": null,
   "metadata": {},
   "outputs": [],
   "source": []
  },
  {
   "cell_type": "code",
   "execution_count": null,
   "metadata": {},
   "outputs": [],
   "source": []
  }
 ],
 "metadata": {
  "kernelspec": {
   "display_name": "Python 3",
   "language": "python",
   "name": "python3"
  },
  "language_info": {
   "codemirror_mode": {
    "name": "ipython",
    "version": 3
   },
   "file_extension": ".py",
   "mimetype": "text/x-python",
   "name": "python",
   "nbconvert_exporter": "python",
   "pygments_lexer": "ipython3",
   "version": "3.8.5"
  }
 },
 "nbformat": 4,
 "nbformat_minor": 4
}
